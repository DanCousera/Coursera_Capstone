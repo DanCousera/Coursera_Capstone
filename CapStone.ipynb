{
 "cells": [
  {
   "cell_type": "markdown",
   "id": "valid-horse",
   "metadata": {},
   "source": [
    "<a href=\"https://cognitiveclass.ai\"><img src = \"https://cf-courses-data.s3.us.cloud-object-storage.appdomain.cloud/IBMDeveloperSkillsNetwork-DS0701EN-SkillsNetwork/labs_v1/IDSNlogo.png\" width = 400> </a>\n",
    "\n",
    "# Capstone Project"
   ]
  },
  {
   "cell_type": "markdown",
   "id": "ignored-decrease",
   "metadata": {},
   "source": [
    "## Introduction\n",
    "<p>This notebook is part of the Capstone Project offered by online learnin platform cousera. It will be mainly used for the capstone project.</p>\n",
    "<p>Goal is to learn, how to segment a given city into different neighborhoods using the geographical coordinates of the center of each neighborhood. And then, using a combination of location data and machine learning, to group the neighborhoods into clusters.</p>"
   ]
  },
  {
   "cell_type": "code",
   "execution_count": 1,
   "id": "powerful-zealand",
   "metadata": {},
   "outputs": [],
   "source": [
    "#imports\n",
    "import pandas as pd\n",
    "import numpy as np"
   ]
  },
  {
   "cell_type": "code",
   "execution_count": 2,
   "id": "practical-simpson",
   "metadata": {},
   "outputs": [
    {
     "name": "stdout",
     "output_type": "stream",
     "text": [
      "Hello Capstone Project Course!\n"
     ]
    }
   ],
   "source": [
    "print ('Hello Capstone Project Course!')"
   ]
  },
  {
   "cell_type": "code",
   "execution_count": null,
   "id": "criminal-hampshire",
   "metadata": {},
   "outputs": [],
   "source": []
  }
 ],
 "metadata": {
  "kernelspec": {
   "display_name": "Python 3",
   "language": "python",
   "name": "python3"
  },
  "language_info": {
   "codemirror_mode": {
    "name": "ipython",
    "version": 3
   },
   "file_extension": ".py",
   "mimetype": "text/x-python",
   "name": "python",
   "nbconvert_exporter": "python",
   "pygments_lexer": "ipython3",
   "version": "3.8.8"
  }
 },
 "nbformat": 4,
 "nbformat_minor": 5
}
